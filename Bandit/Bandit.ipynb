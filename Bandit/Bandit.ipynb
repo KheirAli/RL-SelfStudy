{
  "nbformat": 4,
  "nbformat_minor": 0,
  "metadata": {
    "kernelspec": {
      "display_name": "Python 3",
      "language": "python",
      "name": "python3"
    },
    "language_info": {
      "codemirror_mode": {
        "name": "ipython",
        "version": 3
      },
      "file_extension": ".py",
      "mimetype": "text/x-python",
      "name": "python",
      "nbconvert_exporter": "python",
      "pygments_lexer": "ipython3",
      "version": "3.8.3"
    },
    "colab": {
      "name": "optimistic.ipynb",
      "provenance": []
    },
    "gpuClass": "standard"
  },
  "cells": [
    {
      "cell_type": "code",
      "metadata": {
        "id": "KfHhmJDnh2h4"
      },
      "source": [
        "import matplotlib.pyplot as plt\n",
        "import numpy as np"
      ],
      "execution_count": null,
      "outputs": []
    },
    {
      "cell_type": "code",
      "metadata": {
        "id": "McekbZAah2h-"
      },
      "source": [
        "NUM_TRIALS = 2000\n",
        "EPS = 0.1\n",
        "BANDIT_PROBABILITIES = [3, 6, 10]"
      ],
      "execution_count": null,
      "outputs": []
    },
    {
      "cell_type": "code",
      "metadata": {
        "id": "iyD1eqwKh2h_"
      },
      "source": [
        "class Bandit:\n",
        "    def __init__(self, p, first_reward):\n",
        "        # p: the win rate\n",
        "        self.p = p\n",
        "        self.p_estimate = first_reward\n",
        "        self.N = 1. # num samples collected so far\n",
        "\n",
        "    def pull(self):\n",
        "        # draw a 1 with probability p\n",
        "        return np.random.normal(self.p,np.sqrt(2),1)\n",
        "\n",
        "    def update(self, x):\n",
        "        self.N += 1.\n",
        "        self.p_estimate = ((self.N - 1)*self.p_estimate + x) / self.N"
      ],
      "execution_count": null,
      "outputs": []
    },
    {
      "cell_type": "code",
      "source": [
        "##e-greedy\n",
        "def experiment():\n",
        "    bandits = [Bandit(p,0) for p in BANDIT_PROBABILITIES]\n",
        "\n",
        "    rewards = np.zeros(NUM_TRIALS)\n",
        "    for i in range(NUM_TRIALS):\n",
        "        best_win = np.argmax(np.array([b.p_estimate for b in bandits]))\n",
        "        if np.random.random() < EPS:\n",
        "          best_win = np.random.randint(0,np.shape(BANDIT_PROBABILITIES)[0])\n",
        "\n",
        "        x = bandits[best_win].pull()\n",
        "        rewards[i] = x\n",
        "        bandits[best_win].update(x)\n",
        "\n",
        "\n",
        "    # print mean estimates for each bandit\n",
        "    for b in bandits:\n",
        "        print(\"mean estimate:\", b.p_estimate)\n",
        "\n",
        "    # print total reward\n",
        "    print(\"total reward earned:\", rewards.sum())\n",
        "    print(\"overall win rate:\", rewards.sum() / NUM_TRIALS)\n",
        "    print(\"num times selected each bandit:\", [b.N for b in bandits])\n",
        "\n",
        "    # plot the results\n",
        "    cumulative_rewards = np.cumsum(rewards)\n",
        "    win_rates = cumulative_rewards / (np.arange(NUM_TRIALS) + 1)\n",
        "    plt.ylim([0, 14])\n",
        "    plt.plot(win_rates)\n",
        "    plt.plot(np.ones(NUM_TRIALS)*np.max(BANDIT_PROBABILITIES))\n",
        "    plt.show()"
      ],
      "metadata": {
        "id": "4HSXkjBAWGG-"
      },
      "execution_count": null,
      "outputs": []
    },
    {
      "cell_type": "code",
      "source": [
        "experiment()"
      ],
      "metadata": {
        "id": "A3ZtdJjUWcbg",
        "outputId": "ebb170db-2a41-48fe-b6e3-7d63e8edc3ae",
        "colab": {
          "base_uri": "https://localhost:8080/",
          "height": 428
        }
      },
      "execution_count": null,
      "outputs": [
        {
          "output_type": "stream",
          "name": "stdout",
          "text": [
            "mean estimate: [2.74706471]\n",
            "mean estimate: [5.8842985]\n",
            "mean estimate: [9.98654748]\n",
            "total reward earned: 19186.449906840102\n",
            "overall win rate: 9.593224953420052\n",
            "num times selected each bandit: [72.0, 72.0, 1859.0]\n"
          ]
        },
        {
          "output_type": "stream",
          "name": "stderr",
          "text": [
            "/usr/local/lib/python3.7/dist-packages/ipykernel_launcher.py:7: VisibleDeprecationWarning: Creating an ndarray from ragged nested sequences (which is a list-or-tuple of lists-or-tuples-or ndarrays with different lengths or shapes) is deprecated. If you meant to do this, you must specify 'dtype=object' when creating the ndarray.\n",
            "  import sys\n"
          ]
        },
        {
          "output_type": "display_data",
          "data": {
            "text/plain": [
              "<Figure size 432x288 with 1 Axes>"
            ],
            "image/png": "[encoded data removed]"
          },
          "metadata": {
            "needs_background": "light"
          }
        }
      ]
    },
    {
      "cell_type": "code",
      "metadata": {
        "id": "Q5nvQIPXh2h_"
      },
      "source": [
        "##UBC\n",
        "def experiment():\n",
        "    bandits = [Bandit(p,0) for p in BANDIT_PROBABILITIES]\n",
        "\n",
        "    rewards = np.zeros(NUM_TRIALS)\n",
        "    c = 3\n",
        "    for i in range(NUM_TRIALS):\n",
        "        check = [x + c*np.sqrt(np.log(i+1))/y for (x, y) in zip([b.p_estimate for b in bandits], [b.N for b in bandits])] \n",
        "        best_win = np.argmax(check)\n",
        "        if np.random.random() < -1 * EPS:\n",
        "          best_win = np.random.randint(0,np.shape(BANDIT_PROBABILITIES)[0])\n",
        "\n",
        "        x = bandits[best_win].pull()\n",
        "        rewards[i] = x\n",
        "        bandits[best_win].update(x)\n",
        "\n",
        "\n",
        "    # print mean estimates for each bandit\n",
        "    for b in bandits:\n",
        "        print(\"mean estimate:\", b.p_estimate)\n",
        "\n",
        "    # print total reward\n",
        "    print(\"total reward earned:\", rewards.sum())\n",
        "    print(\"overall win rate:\", rewards.sum() / NUM_TRIALS)\n",
        "    print(\"num times selected each bandit:\", [b.N for b in bandits])\n",
        "\n",
        "    # plot the results\n",
        "    cumulative_rewards = np.cumsum(rewards)\n",
        "    win_rates = cumulative_rewards / (np.arange(NUM_TRIALS) + 1)\n",
        "    plt.ylim([0, 14])\n",
        "    plt.plot(win_rates)\n",
        "    plt.plot(np.ones(NUM_TRIALS)*np.max(BANDIT_PROBABILITIES))\n",
        "    plt.show()"
      ],
      "execution_count": null,
      "outputs": []
    },
    {
      "cell_type": "code",
      "source": [
        ""
      ],
      "metadata": {
        "id": "rcoCCSXIU-WP"
      },
      "execution_count": null,
      "outputs": []
    },
    {
      "cell_type": "code",
      "metadata": {
        "id": "2pXfwzTkh2iA",
        "colab": {
          "base_uri": "https://localhost:8080/",
          "height": 428
        },
        "outputId": "03165cf0-44c8-4e1e-ac2c-31d0e2c98c91"
      },
      "source": [
        "experiment()"
      ],
      "execution_count": null,
      "outputs": [
        {
          "output_type": "stream",
          "name": "stderr",
          "text": [
            "/usr/local/lib/python3.7/dist-packages/numpy/core/fromnumeric.py:43: VisibleDeprecationWarning: Creating an ndarray from ragged nested sequences (which is a list-or-tuple of lists-or-tuples-or ndarrays with different lengths or shapes) is deprecated. If you meant to do this, you must specify 'dtype=object' when creating the ndarray.\n",
            "  result = getattr(asarray(obj), method)(*args, **kwds)\n"
          ]
        },
        {
          "output_type": "stream",
          "name": "stdout",
          "text": [
            "mean estimate: [2.34277673]\n",
            "mean estimate: [1.75155281]\n",
            "mean estimate: [9.94244862]\n",
            "total reward earned: 19867.94410649401\n",
            "overall win rate: 9.933972053247006\n",
            "num times selected each bandit: [4.0, 2.0, 1997.0]\n"
          ]
        },
        {
          "output_type": "display_data",
          "data": {
            "text/plain": [
              "<Figure size 432x288 with 1 Axes>"
            ],
            "image/png": "[encoded data removed]"
          },
          "metadata": {
            "needs_background": "light"
          }
        }
      ]
    },
    {
      "cell_type": "code",
      "metadata": {
        "id": "5-JiZuOZh2iB",
        "colab": {
          "base_uri": "https://localhost:8080/"
        },
        "outputId": "19b1dbf7-8e61-4067-c249-6befee20c95b"
      },
      "source": [
        "np.shape(BANDIT_PROBABILITIES)[0]\n"
      ],
      "execution_count": null,
      "outputs": [
        {
          "output_type": "execute_result",
          "data": {
            "text/plain": [
              "3"
            ]
          },
          "metadata": {},
          "execution_count": 33
        }
      ]
    },
    {
      "cell_type": "code",
      "metadata": {
        "id": "T7hplgVwh2iB"
      },
      "source": [
        "bandits = [Bandit(p) for p in BANDIT_PROBABILITIES]\n",
        "check = np.array([b.p_estimate for b in bandits]) + np.sqrt(np.log(3+1))/np.sqrt(np.array([b.N for b in bandits]))"
      ],
      "execution_count": null,
      "outputs": []
    },
    {
      "cell_type": "code",
      "source": [
        "best_win = np.argmax(check)\n",
        "best_win"
      ],
      "metadata": {
        "colab": {
          "base_uri": "https://localhost:8080/"
        },
        "id": "z_9WTgJQFfrZ",
        "outputId": "ab744fe7-8242-4aa3-c47d-cbcc94df300c"
      },
      "execution_count": null,
      "outputs": [
        {
          "output_type": "execute_result",
          "data": {
            "text/plain": [
              "0"
            ]
          },
          "metadata": {},
          "execution_count": 54
        }
      ]
    },
    {
      "cell_type": "code",
      "source": [
        ""
      ],
      "metadata": {
        "id": "9UXRpsm3QIrU"
      },
      "execution_count": null,
      "outputs": []
    }
  ]
}